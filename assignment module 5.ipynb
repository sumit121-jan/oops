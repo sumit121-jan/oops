{
  "nbformat": 4,
  "nbformat_minor": 0,
  "metadata": {
    "colab": {
      "provenance": [],
      "collapsed_sections": [
        "0h-YTgfHgJLb"
      ]
    },
    "kernelspec": {
      "name": "python3",
      "display_name": "Python 3"
    },
    "language_info": {
      "name": "python"
    }
  },
  "cells": [
    {
      "cell_type": "markdown",
      "source": [
        "# THEORY QUESTIONS"
      ],
      "metadata": {
        "id": "0h-YTgfHgJLb"
      }
    },
    {
      "cell_type": "markdown",
      "source": [
        "1.  What is Object-Oriented Programming (OOP)?"
      ],
      "metadata": {
        "id": "CdA67qcOgQOT"
      }
    },
    {
      "cell_type": "markdown",
      "source": [
        "The concept of objects is the foundation of the programming paradigm known as object-oriented programming, or OOP for short. These objects include data in the form of attributes (also called properties) and code in the form of methods (functions that deal with the object's data).\n",
        "\n",
        "\n",
        "Essential OOP Principles:\n",
        "\n",
        "**Encapsulation** is the act of classifying data (attributes) and procedures (functions) while blocking direct access to some of the constituent parts.\n",
        "\n",
        "\n",
        "The approach of exposing only an object's most crucial features while keeping its implementation specifics hidden is known as **abstraction.**\n",
        "\n",
        "**Inheritance** is the process of generating new classes (child classes) from preexisting ones (parent classes) to promote code reuse.\n",
        "\n",
        "Allowing methods or functions to behave differently based on the object or data type they are working with is known as **polymorphism.**\n"
      ],
      "metadata": {
        "id": "MlJoxk7LjRLf"
      }
    },
    {
      "cell_type": "markdown",
      "source": [
        "2.  What is a class in OOP?"
      ],
      "metadata": {
        "id": "2nURHGe4jlB9"
      }
    },
    {
      "cell_type": "markdown",
      "source": [
        "A class is a blueprint or template used in object-oriented programming (OOP). By encapsulating data (attributes) and methods (functions) that manipulate the data, it establishes the organisation and behaviour of objects.\n",
        "\n",
        "\n",
        "\n",
        "Essential Elements of a Class:\n",
        "\n",
        "Attributes: Variables that hold an object's status or data.\n",
        "\n",
        "Methods: Class-defined functions that explain an object's activities or behaviours.n"
      ],
      "metadata": {
        "id": "2so9R39nnqvu"
      }
    },
    {
      "cell_type": "markdown",
      "source": [
        "3.  What is an object in OOP?"
      ],
      "metadata": {
        "id": "Iceks-u9v6R1"
      }
    },
    {
      "cell_type": "markdown",
      "source": [
        "In Object-Oriented Programming (OOP), an object is an instance of a class. It is a self-contained entity that bundles data (attributes) and behavior (methods) together, allowing you to model real-world entities and their interactions in your program."
      ],
      "metadata": {
        "id": "7ZABqpR3v-Z5"
      }
    },
    {
      "cell_type": "markdown",
      "source": [
        "4. What is the difference between abstraction and encapsulation?\n"
      ],
      "metadata": {
        "id": "W4JoBoCkxxVe"
      }
    },
    {
      "cell_type": "markdown",
      "source": [
        "Abstraction and encapsulation are two fundamental concepts in Object-Oriented Programming (OOP), and while they are related, they serve distinct purposes:\n",
        "\n",
        "Abstraction\n",
        "\n",
        "\n",
        "\n",
        "Definition: Abstraction is the process of hiding the internal implementation details of a feature and only showing its essential features or behavior.\n",
        "\n",
        "\n",
        "Purpose: To simplify complex systems by focusing on the high-level functionalities rather than implementation details.\n",
        "\n",
        "Encapsulation\n",
        "\n",
        "\n",
        "Definition: Encapsulation is the process of bundling data (attributes) and methods (functions) that operate on that data into a single unit (class). It also restricts direct access to certain components to maintain control and integrity.\n",
        "\n",
        "\n",
        "Purpose: To protect the integrity of data and prevent unauthorized or unintended interference."
      ],
      "metadata": {
        "id": "5xEh3M5fx2ii"
      }
    },
    {
      "cell_type": "markdown",
      "source": [
        "5. What are dunder methods in Python?\n",
        "\n",
        "\n"
      ],
      "metadata": {
        "id": "QNLPKD8xDk5Q"
      }
    },
    {
      "cell_type": "markdown",
      "source": [
        "Dunder methods (short for double underscore methods) in Python are special methods that have names starting and ending with double underscores, such as __init__, __str__, __add__, etc. They are also known as magic methods or special methods. These methods are predefined by Python and allow you to define how objects of a class behave in specific situations, such as initialization, string representation, or arithmetic operations."
      ],
      "metadata": {
        "id": "bGs9Z-m9D0LK"
      }
    },
    {
      "cell_type": "markdown",
      "source": [
        "6.  Explain the concept of inheritance in OOP."
      ],
      "metadata": {
        "id": "ow564t9tD4kW"
      }
    },
    {
      "cell_type": "markdown",
      "source": [
        "Inheritance in Object-Oriented Programming (OOP) is a mechanism that allows a class (called the child class or subclass) to derive properties and behaviors (attributes and methods) from another class (called the parent class or base class). It promotes code reuse, scalability, and the establishment of a hierarchical relationship between classes.\n",
        "\n"
      ],
      "metadata": {
        "id": "EpMdAupCfpM7"
      }
    },
    {
      "cell_type": "markdown",
      "source": [
        "7.  What is polymorphism in OOP?"
      ],
      "metadata": {
        "id": "p9SorKyBf3Ut"
      }
    },
    {
      "cell_type": "markdown",
      "source": [
        "Polymorphism in Object-Oriented Programming (OOP) refers to the ability of different classes to respond to the same method or function in their own unique way. The term derives from the Greek words \"poly\" (many) and \"morph\" (forms), meaning \"many forms.\"\n",
        "\n",
        "Polymorphism enables a single interface to represent different underlying forms (data types or methods). It enhances code flexibility and reusability by allowing objects to be treated as instances of their parent class rather than their actual class."
      ],
      "metadata": {
        "id": "YT_iO6xzf8mJ"
      }
    },
    {
      "cell_type": "markdown",
      "source": [
        "8.  How is encapsulation achieved in Python?"
      ],
      "metadata": {
        "id": "qvdYRymdgcTu"
      }
    },
    {
      "cell_type": "markdown",
      "source": [
        "Encapsulation in Python is achieved through data hiding and controlled access to the attributes and methods of a class. It involves restricting direct access to some of the object's components and protecting the integrity of the data. Encapsulation is implemented using access modifiers and methods that provide controlled interaction with the private or protected data.\n",
        "\n",
        "\n",
        "Steps to Achieve Encapsulation in Python\n",
        "Access Modifiers:\n",
        "\n",
        "Public: Attributes and methods that are accessible from anywhere.\n",
        "Protected: Attributes and methods intended for internal use or by subclasses, denoted by a single underscore _.\n",
        "Private: Attributes and methods that are not directly accessible outside the class, denoted by a double underscore __.\n",
        "Getter and Setter Methods:\n",
        "\n",
        "Provide controlled access to private attributes.\n",
        "Ensure data validation and prevent unauthorized modification"
      ],
      "metadata": {
        "id": "9FmZEImsghHB"
      }
    },
    {
      "cell_type": "markdown",
      "source": [
        "9. What is a constructor in Python?"
      ],
      "metadata": {
        "id": "kt9ACFFagnZ4"
      }
    },
    {
      "cell_type": "markdown",
      "source": [
        "A constructor in Python is a special method used to initialize the attributes of a class when an object is created. The constructor is defined using the __init__ method. It allows you to set up an object's initial state by assigning values to its attributes or performing other setup operations.\n",
        "\n",
        "Key Features of a Constructor\n",
        "Automatic Invocation:\n",
        "\n",
        "The constructor is automatically called when an object of the class is created.\n",
        "Special Method:\n",
        "\n",
        "It is a dunder (double underscore) method named __init__.\n",
        "Parameters:\n",
        "\n",
        "The constructor can accept parameters to initialize attributes with specific values."
      ],
      "metadata": {
        "id": "IUs8qUlhg54k"
      }
    },
    {
      "cell_type": "markdown",
      "source": [
        "10.  What are class and static methods in Python?\n"
      ],
      "metadata": {
        "id": "ldkDlbUZhDHp"
      }
    },
    {
      "cell_type": "markdown",
      "source": [
        "In Python, **class methods** and **static methods** are special types of methods that enhance the flexibility and functionality of a class. These methods are defined with decorators, `@classmethod` and `@staticmethod`, respectively, and serve distinct purposes.\n",
        "\n",
        "A **class method** operates on the class itself rather than on its instances. It is defined using the `@classmethod` decorator, and its first parameter is conventionally named `cls`, representing the class. Class methods can access and modify class-level attributes, making them ideal for operations that affect the class as a whole. For example, a class method can be used to track the number of objects created or implement factory methods that instantiate objects in specialized ways. Unlike instance methods, class methods cannot directly access instance-specific attributes unless explicitly passed as arguments.\n",
        "\n",
        "On the other hand, a **static method** belongs to the class but does not operate on an instance or the class itself. It is defined using the `@staticmethod` decorator and does not take `self` or `cls` as a parameter. Static methods are utility or helper functions that do not depend on class or instance data. They can be called on the class or its instances and are particularly useful for tasks like mathematical operations, data validation, or general-purpose logic that fits naturally within the class context but does not rely on its attributes.\n",
        "\n",
        "The primary distinction between these two lies in their scope and purpose. A class method is tightly coupled with the class and can modify or access its state, while a static method is entirely independent of the class or its instances. For instance, in a class representing cars, a class method might return the total number of cars manufactured, whereas a static method could calculate the fuel efficiency of a car given certain parameters.\n",
        "\n",
        "In practice, class methods and static methods are invaluable tools for organizing code logically. Class methods are often used for operations that require a reference to the class, such as altering shared data or creating alternative constructors. Static methods are employed for tasks that enhance the functionality of the class without requiring access to its attributes or behavior."
      ],
      "metadata": {
        "id": "BWLDCMjmhIy2"
      }
    },
    {
      "cell_type": "markdown",
      "source": [
        "11.  What is method overloading in Python?"
      ],
      "metadata": {
        "id": "OofVZzPahsl8"
      }
    },
    {
      "cell_type": "markdown",
      "source": [
        "Method overloading in Python refers to the ability of a method to perform different tasks based on the arguments passed to it. However, unlike some other programming languages (such as Java or C++) that support method overloading by allowing multiple methods with the same name but different parameter lists, Python does not support method overloading in the traditional sense. Instead, Python achieves similar functionality using default arguments, variable-length arguments, or conditional logic within a single method."
      ],
      "metadata": {
        "id": "GDlD3XP1hwn7"
      }
    },
    {
      "cell_type": "markdown",
      "source": [
        "12.  What is method overriding in OOP?"
      ],
      "metadata": {
        "id": "VseiAzCIlnCj"
      }
    },
    {
      "cell_type": "markdown",
      "source": [
        "Method overriding in Object-Oriented Programming (OOP) occurs when a subclass provides a specific implementation for a method that is already defined in its parent class. The overridden method in the subclass must have the same name, return type, and parameters as the method in the parent class. This allows the subclass to modify or extend the behavior of the inherited method to suit its specific needs."
      ],
      "metadata": {
        "id": "hxvJBmntlsmX"
      }
    },
    {
      "cell_type": "markdown",
      "source": [
        "13.  What is a property decorator in Python?"
      ],
      "metadata": {
        "id": "c3AfPFE1l0xI"
      }
    },
    {
      "cell_type": "markdown",
      "source": [
        "The property decorator in Python, denoted as @property, is a built-in decorator used to create getter methods in a Pythonic way. It allows you to define a method that can be accessed like an attribute, making the code more readable and maintaining encapsulation by controlling how attributes are accessed and modified.\n",
        "\n",
        "The @property decorator is commonly used in conjunction with setter and deleter methods, allowing you to define controlled access and modification behavior for class attributes while presenting them as simple attributes to the outside world."
      ],
      "metadata": {
        "id": "ofjeLJTVl5eh"
      }
    },
    {
      "cell_type": "markdown",
      "source": [
        "14.  Why is polymorphism important in OOP?"
      ],
      "metadata": {
        "id": "xmPONtD8mD8M"
      }
    },
    {
      "cell_type": "markdown",
      "source": [
        "Polymorphism is a cornerstone of Object-Oriented Programming (OOP) and plays a vital role in enabling flexibility, extensibility, and code reuse. The term \"polymorphism\" comes from the Greek words \"poly\" (many) and \"morph\" (forms), meaning that a single interface or method can have multiple behaviors depending on the object invoking it."
      ],
      "metadata": {
        "id": "1r1WJNysmHrc"
      }
    },
    {
      "cell_type": "markdown",
      "source": [
        "15.  What is an abstract class in Python?"
      ],
      "metadata": {
        "id": "IDr8prkcmXdl"
      }
    },
    {
      "cell_type": "markdown",
      "source": [
        "An abstract class in Python is a class that cannot be instantiated directly and is meant to be subclassed by other classes. It provides a common interface for its subclasses, while allowing each subclass to implement its specific behavior for the abstract methods defined in the abstract class.\n",
        "\n",
        "Abstract classes are used when you want to define a template for other classes, forcing them to implement certain methods, but without specifying how those methods should work in the base class itself.\n",
        "\n",
        "Python's abc module (Abstract Base Class) provides the infrastructure for defining abstract classes and abstract methods."
      ],
      "metadata": {
        "id": "dCo-1rm2meC8"
      }
    },
    {
      "cell_type": "markdown",
      "source": [
        "16. What are the advantages of OOP?"
      ],
      "metadata": {
        "id": "9nFOZdcJm1Qa"
      }
    },
    {
      "cell_type": "markdown",
      "source": [
        "object-Oriented Programming (OOP) offers several advantages that enhance code structure, readability, maintainability, and scalability. Here are the key benefits of using OOP in software development:\n",
        "\n",
        "1. Modularity (Encapsulation)\n",
        "OOP enables modular programming by organizing code into distinct objects, each representing real-world entities or concepts. Each object is responsible for its own data and behavior. This makes the codebase more manageable, as you can modify or update one object without affecting others.\n",
        "\n",
        "2. Reusability (Inheritance)\n",
        "OOP allows you to create new classes by inheriting from existing ones, which promotes code reuse. You can build upon a class's existing functionality and add new features without modifying the original class. This reduces redundancy and saves time.\n",
        "\n",
        "For example, if you have a Vehicle class, a Car class can inherit from it, adding unique features like air_conditioning while reusing general attributes like engine_type and wheels.\n",
        "\n",
        "3. Flexibility and Extensibility (Polymorphism)\n",
        "Polymorphism allows objects of different classes to be treated as objects of a common base class. This enables flexible code design because you can use the same interface to interact with different objects, which can have their own implementations of methods.\n",
        "\n",
        "This flexibility makes it easy to extend your code in the future by adding new classes that conform to existing interfaces."
      ],
      "metadata": {
        "id": "girIuDGKm6tD"
      }
    },
    {
      "cell_type": "markdown",
      "source": [
        "17.  What is the difference between a class variable and an instance variable?"
      ],
      "metadata": {
        "id": "ucFLF7vunKEo"
      }
    },
    {
      "cell_type": "markdown",
      "source": [
        "In Python, the main difference between class variables and instance variables lies in their scope and behavior. **Class variables** are shared across all instances of a class and are defined within the class but outside any methods. They hold values that are common to all objects of that class, meaning if one instance changes the value of a class variable, it affects all other instances. These variables are typically accessed through the class name but can also be accessed through an instance. On the other hand, **instance variables** are unique to each object created from the class and are defined within the `__init__()` method using `self`. These variables store data specific to each instance, so changing an instance variable in one object does not affect others. While class variables are stored once in memory and shared by all instances, instance variables are stored separately for each object. In essence, class variables represent shared attributes, while instance variables hold data that is particular to each individual object."
      ],
      "metadata": {
        "id": "I-R9IP04nX78"
      }
    },
    {
      "cell_type": "markdown",
      "source": [
        "18.  What is multiple inheritance in Python?"
      ],
      "metadata": {
        "id": "FUd9DMMDnd3H"
      }
    },
    {
      "cell_type": "markdown",
      "source": [
        "Multiple inheritance in Python refers to a feature where a class can inherit attributes and methods from more than one parent class. This allows a child class to combine behaviors and properties from multiple classes, enabling more flexible and reusable code. Unlike single inheritance, where a class can only inherit from one parent class, multiple inheritance allows a class to inherit from multiple base classes, which can be useful when a class needs functionality from more than one source.\n",
        "\n",
        "In Python, multiple inheritance is supported directly, and the child class can access methods and attributes from all its parent classes. However, the order in which classes are inherited can impact the method resolution order (MRO), which determines the order in which classes are checked for method definitions."
      ],
      "metadata": {
        "id": "1YkOZWw_nqBn"
      }
    },
    {
      "cell_type": "markdown",
      "source": [
        "19.  Explain the purpose of ‘’__str__’ and ‘__repr__’ ‘ methods in Python."
      ],
      "metadata": {
        "id": "uWyi4mlon23n"
      }
    },
    {
      "cell_type": "markdown",
      "source": [
        "In Python, the `__str__` and `__repr__` methods are used to define how objects are represented as strings, but they serve different purposes. The `__str__` method is designed to provide a user-friendly or human-readable string representation of an object, typically used when printing the object or converting it to a string for display to the user. It should return a clear, informal description of the object. On the other hand, the `__repr__` method is aimed at providing a more detailed and unambiguous string representation, primarily for developers or debugging purposes. It is meant to offer a formal output, ideally something that could help recreate the object using `eval()`. If `__str__` is not defined, Python will fall back to using `__repr__` when attempting to print or convert an object to a string. In essence, `__str__` focuses on readability for users, while `__repr__` is intended for a precise and unambiguous representation for developers."
      ],
      "metadata": {
        "id": "Wc-mfY3Tn8TP"
      }
    },
    {
      "cell_type": "markdown",
      "source": [
        "20.  What is the significance of the ‘super()’ function in Python?"
      ],
      "metadata": {
        "id": "-fJAfYn1ooxl"
      }
    },
    {
      "cell_type": "markdown",
      "source": [
        "The super() function in Python is used to call a method from a parent class, allowing for the inheritance of functionality in a subclass. Its primary significance is in facilitating method resolution order (MRO) and enabling multi-level inheritance. By using super(), a subclass can access methods from its parent class (or grandparent class, etc.), without directly referring to the parent class by name. This is especially useful in complex inheritance hierarchies or when working with multiple inheritance, as it ensures that the method from the most appropriate class in the hierarchy is called, based on the MRO.\n",
        "\n",
        "The super() function is typically used within the subclass’s methods, often in the __init__ method, to invoke the parent class's initialization or other methods. This helps avoid redundancy and promotes code reuse. Additionally, in multiple inheritance scenarios, super() ensures that each class in the inheritance chain is called properly, following the MRO, which is critical for avoiding issues like method conflicts."
      ],
      "metadata": {
        "id": "Jn1Pz103o2Ji"
      }
    },
    {
      "cell_type": "markdown",
      "source": [
        "21.  What is the significance of the __del__ method in Python?"
      ],
      "metadata": {
        "id": "gRXwEqPJo7Wv"
      }
    },
    {
      "cell_type": "markdown",
      "source": [
        "The __del__ method in Python is a special method, also known as a destructor, that is automatically called when an object is about to be destroyed or garbage collected. Its primary significance lies in allowing an object to clean up resources, such as closing files, releasing network connections, or deallocating other system resources, before it is removed from memory. The __del__ method can be used to define custom cleanup behavior for objects that need it, ensuring that resources are properly released to avoid memory leaks or other issues related to resource management.\n",
        "\n",
        "However, it's important to note that the timing of the __del__ method’s invocation is not guaranteed. The method is invoked when Python’s garbage collector determines that an object is no longer in use, but this can depend on the internal workings of the Python memory management system. The __del__ method should be used carefully, as relying on it for critical cleanup tasks might lead to issues, particularly if circular references exist or if the Python interpreter's garbage collector is delayed."
      ],
      "metadata": {
        "id": "AB3EshOTpOOL"
      }
    },
    {
      "cell_type": "markdown",
      "source": [
        "22.  What is the difference between @staticmethod and @classmethod in Python?"
      ],
      "metadata": {
        "id": "GoBadp8ZpPJe"
      }
    },
    {
      "cell_type": "markdown",
      "source": [
        "The key difference between `@staticmethod` and `@classmethod` in Python lies in how they interact with the class and its instances. A `@staticmethod` is a method that does not require access to either the class (`cls`) or the instance (`self`). It behaves like a regular function that belongs to the class's namespace and is used for operations that don't need knowledge of the class or instance's state. It can be called on the class itself or on an instance. On the other hand, a `@classmethod` takes the class (`cls`) as its first argument and is used to operate on the class itself rather than on individual instances. It can access and modify class-level attributes but does not have access to instance-specific data unless explicitly passed an instance. While `@staticmethod` is typically used for utility functions related to the class, `@classmethod` is used when there's a need to modify or access class-level data."
      ],
      "metadata": {
        "id": "mbhEKWP0pUKo"
      }
    },
    {
      "cell_type": "markdown",
      "source": [
        "23.  How does polymorphism work in Python with inheritance?"
      ],
      "metadata": {
        "id": "dkaHBwFfrszw"
      }
    },
    {
      "cell_type": "markdown",
      "source": [
        "Polymorphism in Python, particularly when combined with inheritance, allows objects of different classes to be treated as objects of a common superclass, but each class can have its own implementation of methods. The key idea behind polymorphism is that a single interface (such as a method) can be used to represent different behaviors, depending on the object’s actual class. This is made possible through method overriding in subclasses, where a method in a subclass has the same name as a method in the parent class but implements a different behavior.\n",
        "\n",
        "In Python, polymorphism works through inheritance and dynamic method resolution, meaning that the method that is executed is determined at runtime based on the type of the object calling the method, not the type of reference that holds the object.\n",
        "\n",
        "**Example of Polymorphism in Python:**\n",
        "\n",
        "\n",
        "```python\n",
        "class Animal:\n",
        "    def speak(self):\n",
        "        return \"Animal makes a sound\"\n",
        "\n",
        "class Dog(Animal):\n",
        "    def speak(self):\n",
        "        return \"Woof!\"\n",
        "\n",
        "class Cat(Animal):\n",
        "    def speak(self):\n",
        "        return \"Meow!\"\n",
        "\n",
        "# Polymorphism in action\n",
        "animals = [Dog(), Cat()]\n",
        "\n",
        "for animal in animals:\n",
        "    print(animal.speak())\n",
        "```\n",
        "\n",
        "**Explanation:**\n",
        "\n",
        "In this example, `Dog` and `Cat` are subclasses of the `Animal` class, and each class overrides the `speak()` method. The `speak()` method behaves differently depending on whether it's called on a `Dog` or a `Cat` object. Even though both `Dog` and `Cat` are instances of the superclass `Animal`, they respond differently to the same method call. This is polymorphism in action—specifically **method overriding**, which allows different subclasses to define their own behavior for a method that exists in the parent class.\n",
        "\n",
        "**Key Points:**\n",
        "\n",
        "\n",
        "- **Inheritance** allows a subclass to inherit methods from a superclass.\n",
        "- **Method overriding** enables a subclass to provide a specific implementation of a method.\n",
        "- **Dynamic dispatch** in Python ensures that the correct method is called for the object type at runtime, not based on the reference type.\n",
        "- Polymorphism allows for flexibility and scalability, where code can be written to work with objects of different types, even though they share a common interface."
      ],
      "metadata": {
        "id": "ALjI-126rxEQ"
      }
    },
    {
      "cell_type": "markdown",
      "source": [
        " 24. What is method chaining in Python OOP?"
      ],
      "metadata": {
        "id": "TdTF7h9Ir4xm"
      }
    },
    {
      "cell_type": "markdown",
      "source": [
        "Method chaining in Python refers to the practice of calling multiple methods on the same object in a single statement, where each method returns the object itself (or another object that allows further method calls). This technique allows for concise and readable code by enabling multiple method calls to be \"chained\" together without the need for intermediate variables or repeated references to the object.\n",
        "\n",
        "In Python, method chaining is typically achieved by having each method return the instance of the object (self) after performing some operation. This way, the next method in the chain can be called directly on the same object."
      ],
      "metadata": {
        "id": "s3lHhTMFsLhV"
      }
    },
    {
      "cell_type": "markdown",
      "source": [
        "25.  What is the purpose of the __call__ method in Python?"
      ],
      "metadata": {
        "id": "Q4LJD27Gsr78"
      }
    },
    {
      "cell_type": "markdown",
      "source": [
        "The __call__ method in Python is a special method that allows an instance of a class to be called like a function. When an object of a class implements the __call__ method, it makes that object callable, meaning you can use parentheses () after the object to invoke the __call__ method, just as you would with a normal function.\n",
        "\n",
        "The purpose of the __call__ method is to enable objects to act as functions, allowing them to encapsulate behavior that can be invoked directly. This feature can be particularly useful in scenarios where you want to create callable objects or use objects to store function-like behavior, adding flexibility to your code design."
      ],
      "metadata": {
        "id": "E4U00qB1swE9"
      }
    },
    {
      "cell_type": "markdown",
      "source": [
        "# PRACTICAL QUESTION"
      ],
      "metadata": {
        "id": "YteYZjW_tp45"
      }
    },
    {
      "cell_type": "markdown",
      "source": [
        " 1. Create a parent class Animal with a method speak() that prints a generic message. Create a child class Dog\n",
        "that overrides the speak() method to print \"Bark!\""
      ],
      "metadata": {
        "id": "01oK__IJT-yk"
      }
    },
    {
      "cell_type": "code",
      "source": [
        "class Animal:\n",
        "  def speak(self):\n",
        "    print(\"yes animal makes sound\")\n",
        "class Dog(Animal):\n",
        "  def speak(self):\n",
        "    print(\"bark sound\")\n",
        "\n",
        "oscar = Dog()\n",
        "oscar.speak()"
      ],
      "metadata": {
        "colab": {
          "base_uri": "https://localhost:8080/"
        },
        "id": "UY88h1bof7xs",
        "outputId": "eeae0d78-9864-4b60-8934-c7983e915aa0"
      },
      "execution_count": 5,
      "outputs": [
        {
          "output_type": "stream",
          "name": "stdout",
          "text": [
            "bark sound\n"
          ]
        }
      ]
    },
    {
      "cell_type": "markdown",
      "source": [
        "2. Write a program to create an abstract class Shape with a method area(). Derive classes Circle and Rectangle\n",
        "from it and implement the area() method in both."
      ],
      "metadata": {
        "id": "6IiO8x8mpCEb"
      }
    },
    {
      "cell_type": "code",
      "source": [
        "from abc import ABC,abstractmethod\n",
        "\n",
        "class Shape(ABC):\n",
        "  @abstractmethod\n",
        "  def area(self):\n",
        "    pass\n",
        "\n",
        "\n",
        "class circle(Shape):\n",
        "  def __init__(self,radius):\n",
        "    self.radius = radius\n",
        "  @property\n",
        "  def Radius(self):\n",
        "    return self.radius\n",
        "\n",
        "  @Radius.setter\n",
        "  def Radius(self,value):\n",
        "    if value < 0:\n",
        "      raise ValueError(\"radiun cant be -ve\")\n",
        "    else:\n",
        "      self.radius = value\n",
        "  def area(self):\n",
        "    return 3.14*self.radius**2\n",
        "\n",
        "class rectangle(Shape):\n",
        "  def __init__(self, l,b):\n",
        "    self.l= l\n",
        "    self.b =b\n",
        "  @property\n",
        "  def lb(self):\n",
        "    return self.l,self.b\n",
        "\n",
        "  @lb.setter\n",
        "  def  lb(self,value):\n",
        "    l,b = value\n",
        "    if l < 0 or b < 0:\n",
        "      raise ValueError(\"length and breadth cant be -ve\")\n",
        "    self.l = l\n",
        "    self.b =b\n",
        "\n",
        "  def area(self):\n",
        "    return self.l*self.b\n",
        "\n",
        "a=rectangle(3,4)\n",
        "a.lb= 1,2\n",
        "\n",
        "\n",
        "b =circle(5)\n",
        "b.Radius = 10\n",
        "\n",
        "print(a.area())\n",
        "print(b.area())\n",
        "\n"
      ],
      "metadata": {
        "colab": {
          "base_uri": "https://localhost:8080/"
        },
        "id": "V1n1LeI7T3ge",
        "outputId": "c5394dac-759d-4d59-9068-679c28bdb39c"
      },
      "execution_count": 17,
      "outputs": [
        {
          "output_type": "stream",
          "name": "stdout",
          "text": [
            "2\n",
            "314.0\n"
          ]
        }
      ]
    },
    {
      "cell_type": "markdown",
      "source": [
        "3. Implement a multi-level inheritance scenario where a class Vehicle has an attribute type. Derive a class Car\n",
        "and further derive a class ElectricCar that adds a battery attribute"
      ],
      "metadata": {
        "id": "DwUSxBZsjK32"
      }
    },
    {
      "cell_type": "code",
      "source": [
        "class Vehicle:\n",
        "  def __init__(self,type):\n",
        "    self.type = type\n",
        "\n",
        "  def display_type(self):\n",
        "    return \"the type of vehicle is {}\".format(self.type)\n",
        "\n",
        "\n",
        "\n",
        "class Car(Vehicle):\n",
        "  def __init__(self,type,model):\n",
        "    super().__init__(type)\n",
        "    self.model = model\n",
        "\n",
        "  def display_model(self):\n",
        "    return \"the model of car is {}\".format(self.model)\n",
        "\n",
        "\n",
        "\n",
        "class ElectricCar(Car):\n",
        "  def __init__(self,type,model,battery):\n",
        "    super().__init__(type,model)\n",
        "    self.battery = battery\n",
        "\n",
        "\n"
      ],
      "metadata": {
        "id": "YlKAJFSRUEXB"
      },
      "execution_count": 19,
      "outputs": []
    },
    {
      "cell_type": "markdown",
      "source": [
        "4. Implement a multi-level inheritance scenario where a class Vehicle has an attribute type. Derive a class Car\n",
        "and further derive a class ElectricCar that adds a battery attribute"
      ],
      "metadata": {
        "id": "R11XIOHyK3dj"
      }
    },
    {
      "cell_type": "code",
      "source": [
        "class Vehicle:\n",
        "    def __init__(self, vehicle_type):\n",
        "        self.vehicle_type = vehicle_type\n",
        "\n",
        "    def display_type(self):\n",
        "        return f\"Vehicle type: {self.vehicle_type}\"\n",
        "\n",
        "\n",
        "class Car(Vehicle):\n",
        "    def __init__(self, vehicle_type, brand):\n",
        "        super().__init__(vehicle_type)\n",
        "        self.brand = brand\n",
        "\n",
        "    def display_car_details(self):\n",
        "        return f\"{self.display_type()}, Brand: {self.brand}\"\n",
        "\n",
        "\n",
        "class ElectricCar(Car):\n",
        "    def __init__(self, vehicle_type, brand, battery_capacity):\n",
        "        super().__init__(vehicle_type, brand)\n",
        "        self.battery_capacity = battery_capacity\n",
        "\n",
        "    def display_electric_car_details(self):\n",
        "        return f\"{self.display_car_details()}, Battery Capacity: {self.battery_capacity} kWh\"\n",
        "\n",
        "\n",
        "# Example Usage\n",
        "# Creating a general Vehicle\n",
        "vehicle = Vehicle(\"General\")\n",
        "print(vehicle.display_type())\n",
        "\n",
        "# Creating a Car\n",
        "car = Car(\"Sedan\", \"Toyota\")\n",
        "print(car.display_car_details())\n",
        "\n",
        "# Creating an ElectricCar\n",
        "electric_car = ElectricCar(\"Sedan\", \"Tesla\", 100)\n",
        "print(electric_car.display_electric_car_details())\n"
      ],
      "metadata": {
        "colab": {
          "base_uri": "https://localhost:8080/"
        },
        "id": "1fdzElIGLRSz",
        "outputId": "e22b0c68-714b-46eb-b8a1-f0d894f3fecd"
      },
      "execution_count": 20,
      "outputs": [
        {
          "output_type": "stream",
          "name": "stdout",
          "text": [
            "Vehicle type: General\n",
            "Vehicle type: Sedan, Brand: Toyota\n",
            "Vehicle type: Sedan, Brand: Tesla, Battery Capacity: 100 kWh\n"
          ]
        }
      ]
    },
    {
      "cell_type": "markdown",
      "source": [
        " 5. Write a program to demonstrate encapsulation by creating a class BankAccount with private attributes\n",
        "balance and methods to deposit, withdraw, and check balance"
      ],
      "metadata": {
        "id": "8WHL1VpOLgy-"
      }
    },
    {
      "cell_type": "code",
      "source": [
        "class BankAccount:\n",
        "    def __init__(self, account_holder, initial_balance=0):\n",
        "        self.__balance = initial_balance  # Private attribute\n",
        "        self.account_holder = account_holder\n",
        "\n",
        "    # Method to deposit money\n",
        "    def deposit(self, amount):\n",
        "        if amount > 0:\n",
        "            self.__balance += amount\n",
        "            return f\"Deposited: {amount}. New balance: {self.__balance}\"\n",
        "        else:\n",
        "            return \"Deposit amount must be positive.\"\n",
        "\n",
        "    # Method to withdraw money\n",
        "    def withdraw(self, amount):\n",
        "        if amount <= self.__balance:\n",
        "            self.__balance -= amount\n",
        "            return f\"Withdrawn: {amount}. Remaining balance: {self.__balance}\"\n",
        "        else:\n",
        "            return \"Insufficient balance.\"\n",
        "\n",
        "    # Method to check balance\n",
        "    def check_balance(self):\n",
        "        return f\"Current balance: {self.__balance}\"\n",
        "\n",
        "\n",
        "# Example Usage\n",
        "# Creating a bank account\n",
        "account = BankAccount(\"John Doe\", 1000)\n",
        "\n",
        "# Performing operations\n",
        "print(account.deposit(500))       # Deposited: 500. New balance: 1500\n",
        "print(account.withdraw(200))      # Withdrawn: 200. Remaining balance: 1300\n",
        "print(account.check_balance())    # Current balance: 1300\n",
        "\n",
        "# Trying to access the private attribute directly\n",
        "try:\n",
        "    print(account.__balance)       # Will raise an AttributeError\n",
        "except AttributeError as e:\n",
        "    print(\"Error:\", e)\n"
      ],
      "metadata": {
        "colab": {
          "base_uri": "https://localhost:8080/"
        },
        "id": "__zeVDYOLw78",
        "outputId": "fd25c865-f04f-4cd0-d5e5-88b88a4613f0"
      },
      "execution_count": 21,
      "outputs": [
        {
          "output_type": "stream",
          "name": "stdout",
          "text": [
            "Deposited: 500. New balance: 1500\n",
            "Withdrawn: 200. Remaining balance: 1300\n",
            "Current balance: 1300\n",
            "Error: 'BankAccount' object has no attribute '__balance'\n"
          ]
        }
      ]
    },
    {
      "cell_type": "markdown",
      "source": [
        "6. Demonstrate runtime polymorphism using a method play() in a base class Instrument. Derive classes Guitar\n",
        "and Piano that implement their own version of play()"
      ],
      "metadata": {
        "id": "z_sGBEteMYlO"
      }
    },
    {
      "cell_type": "code",
      "source": [
        "# Base class\n",
        "class Instrument:\n",
        "    def play(self):\n",
        "        raise NotImplementedError(\"Subclasses must override the play() method\")\n",
        "\n",
        "# Derived class 1\n",
        "class Guitar(Instrument):\n",
        "    def play(self):\n",
        "        return \"Strumming the guitar!\"\n",
        "\n",
        "# Derived class 2\n",
        "class Piano(Instrument):\n",
        "    def play(self):\n",
        "        return \"Playing the piano!\"\n",
        "\n",
        "# Function to demonstrate runtime polymorphism\n",
        "def perform_instrument(instrument):\n",
        "    print(instrument.play())\n",
        "\n",
        "# Example usage\n",
        "guitar = Guitar()\n",
        "piano = Piano()\n",
        "\n",
        "# Using the base class reference to call the method\n",
        "perform_instrument(guitar)  # Output: Strumming the guitar!\n",
        "perform_instrument(piano)   # Output: Playing the piano!\n"
      ],
      "metadata": {
        "id": "Z9KWD3aRLEpj"
      },
      "execution_count": null,
      "outputs": []
    },
    {
      "cell_type": "markdown",
      "source": [
        " 7. Create a class MathOperations with a class method add_numbers() to add two numbers and a static\n",
        "method subtract_numbers() to subtract two numbers"
      ],
      "metadata": {
        "id": "ZZe5SGbvMlYC"
      }
    },
    {
      "cell_type": "code",
      "source": [
        "class MathOperations:\n",
        "    # Class method to add two numbers\n",
        "    @classmethod\n",
        "    def add_numbers(cls, a, b):\n",
        "        return a + b\n",
        "\n",
        "    # Static method to subtract two numbers\n",
        "    @staticmethod\n",
        "    def subtract_numbers(a, b):\n",
        "        return a - b\n",
        "\n",
        "# Example usage\n",
        "result_add = MathOperations.add_numbers(10, 5)  # Using the class method\n",
        "result_subtract = MathOperations.subtract_numbers(10, 5)  # Using the static method\n",
        "\n",
        "print(\"Addition Result:\", result_add)        # Output: Addition Result: 15\n",
        "print(\"Subtraction Result:\", result_subtract)  # Output: Subtraction Resu+lt: 5\n"
      ],
      "metadata": {
        "id": "mW365h7LK1qf"
      },
      "execution_count": null,
      "outputs": []
    },
    {
      "cell_type": "markdown",
      "source": [
        " 8. Implement a class Person with a class method to count the total number of persons created"
      ],
      "metadata": {
        "id": "yZ8XgDltM_Xc"
      }
    },
    {
      "cell_type": "code",
      "source": [
        "class Person:\n",
        "    # Class variable to keep track of the count of persons\n",
        "    person_count = 0\n",
        "\n",
        "    def __init__(self, name, age):\n",
        "        self.name = name\n",
        "        self.age = age\n",
        "        # Increment the person count whenever a new Person object is created\n",
        "        Person.person_count += 1\n",
        "\n",
        "    @classmethod\n",
        "    def total_persons(cls):\n",
        "        # Class method to access the person count\n",
        "        return f\"Total persons created: {cls.person_count}\"\n",
        "\n",
        "# Example usage\n",
        "p1 = Person(\"Alice\", 25)\n",
        "p2 = Person(\"Bob\", 30)\n",
        "p3 = Person(\"Charlie\", 22)\n",
        "\n",
        "print(Person.total_persons())  # Output: Total persons created: 3\n"
      ],
      "metadata": {
        "colab": {
          "base_uri": "https://localhost:8080/"
        },
        "id": "_9OxOqTuNH5X",
        "outputId": "d6a80e76-4f2a-4dd6-8f02-93043bf0d4e6"
      },
      "execution_count": 23,
      "outputs": [
        {
          "output_type": "stream",
          "name": "stdout",
          "text": [
            "Total persons created: 3\n"
          ]
        }
      ]
    },
    {
      "cell_type": "markdown",
      "source": [
        "9. Write a class Fraction with attributes numerator and denominator. Override the str method to display the\n",
        "fraction as \"numerator/denominator\""
      ],
      "metadata": {
        "id": "i12NiY3YPCn-"
      }
    },
    {
      "cell_type": "code",
      "source": [
        "class Fraction:\n",
        "    def __init__(self, numerator, denominator):\n",
        "        if denominator == 0:\n",
        "            raise ValueError(\"Denominator cannot be zero.\")\n",
        "        self.numerator = numerator\n",
        "        self.denominator = denominator\n",
        "\n",
        "    def __str__(self):\n",
        "        return f\"{self.numerator}/{self.denominator}\"\n",
        "\n",
        "# Example usage\n",
        "fraction1 = Fraction(3, 4)\n",
        "fraction2 = Fraction(7, 2)\n",
        "\n",
        "print(fraction1)  # Output: 3/4\n",
        "print(fraction2)  # Output: 7/2\n"
      ],
      "metadata": {
        "colab": {
          "base_uri": "https://localhost:8080/"
        },
        "id": "ZzF1cQ73PCGl",
        "outputId": "2decc4ac-bc2f-40de-f81d-b060acc8e5c9"
      },
      "execution_count": 22,
      "outputs": [
        {
          "output_type": "stream",
          "name": "stdout",
          "text": [
            "3/4\n",
            "7/2\n"
          ]
        }
      ]
    },
    {
      "cell_type": "markdown",
      "source": [
        " 10. Demonstrate operator overloading by creating a class Vector and overriding the add method to add two\n",
        "vectors."
      ],
      "metadata": {
        "id": "JSQU2PtXP7La"
      }
    },
    {
      "cell_type": "code",
      "source": [
        "class Vector:\n",
        "    def __init__(self, x, y):\n",
        "        self.x = x\n",
        "        self.y = y\n",
        "\n",
        "    def __add__(self, other):\n",
        "        if not isinstance(other, Vector):\n",
        "            raise TypeError(\"Operands must be of type Vector\")\n",
        "        return Vector(self.x + other.x, self.y + other.y)\n",
        "\n",
        "    def __str__(self):\n",
        "        return f\"Vector({self.x}, {self.y})\"\n",
        "\n",
        "# Example usage\n",
        "v1 = Vector(2, 3)\n",
        "v2 = Vector(4, 5)\n",
        "\n",
        "v3 = v1 + v2  # Calls the __add__ method\n",
        "\n",
        "print(v1)  # Output: Vector(2, 3)\n",
        "print(v2)  # Output: Vector(4, 5)\n",
        "print(v3)  # Output: Vector(6, 8)\n"
      ],
      "metadata": {
        "id": "i0c9n7nVRElG"
      },
      "execution_count": null,
      "outputs": []
    },
    {
      "cell_type": "markdown",
      "source": [
        " 11. Create a class Person with attributes name and age. Add a method greet() that prints \"Hello, my name is\n",
        "{name} and I am {age} years old.\""
      ],
      "metadata": {
        "id": "cVV_WzUQQAVL"
      }
    },
    {
      "cell_type": "code",
      "source": [
        "class Person:\n",
        "    def __init__(self, name, age):\n",
        "        self.name = name\n",
        "        self.age = age\n",
        "\n",
        "    def greet(self):\n",
        "        print(f\"Hello, my name is {self.name} and I am {self.age} years old.\")\n",
        "\n",
        "# Example usage\n",
        "person1 = Person(\"Alice\", 25)\n",
        "person2 = Person(\"Bob\", 30)\n",
        "\n",
        "person1.greet()  # Output: Hello, my name is Alice and I am 25 years old.\n",
        "person2.greet()  # Output: Hello, my name is Bob and I am 30 years old.\n"
      ],
      "metadata": {
        "id": "10SBl0dwRaaU"
      },
      "execution_count": null,
      "outputs": []
    },
    {
      "cell_type": "markdown",
      "source": [
        "12. Implement a class Student with attributes name and grades. Create a method average_grade() to compute\n",
        "the average of the grades."
      ],
      "metadata": {
        "id": "UFYRnoE6Ru68"
      }
    },
    {
      "cell_type": "code",
      "source": [
        "class Student:\n",
        "    def __init__(self, name, grades):\n",
        "        self.name = name\n",
        "        self.grades = grades  # A list of grades\n",
        "\n",
        "    def average_grade(self):\n",
        "        if not self.grades:  # Check to avoid division by zero\n",
        "            return 0\n",
        "        return sum(self.grades) / len(self.grades)\n",
        "\n",
        "# Example usage\n",
        "student1 = Student(\"Alice\", [85, 90, 78, 92])\n",
        "student2 = Student(\"Bob\", [88, 72, 95])\n",
        "\n",
        "print(f\"{student1.name}'s average grade: {student1.average_grade():.2f}\")\n",
        "# Output: Alice's average grade: 86.25\n",
        "\n",
        "print(f\"{student2.name}'s average grade: {student2.average_grade():.2f}\")\n",
        "# Output: Bob's average grade: 85.00\n"
      ],
      "metadata": {
        "colab": {
          "base_uri": "https://localhost:8080/"
        },
        "id": "RGuZOT7ZR0LA",
        "outputId": "69da6c73-985f-4fe2-fd69-65164e63c53d"
      },
      "execution_count": 24,
      "outputs": [
        {
          "output_type": "stream",
          "name": "stdout",
          "text": [
            "Alice's average grade: 86.25\n",
            "Bob's average grade: 85.00\n"
          ]
        }
      ]
    },
    {
      "cell_type": "markdown",
      "source": [
        " 13. Create a class Rectangle with methods set_dimensions() to set the dimensions and area() to calculate the\n",
        "area"
      ],
      "metadata": {
        "id": "XTjQs3yJSNla"
      }
    },
    {
      "cell_type": "code",
      "source": [
        "class Rectangle:\n",
        "    def __init__(self):\n",
        "        self.length = 0\n",
        "        self.breadth = 0\n",
        "\n",
        "    def set_dimensions(self, length, breadth):\n",
        "        self.length = length\n",
        "        self.breadth = breadth\n",
        "\n",
        "    def area(self):\n",
        "        return self.length * self.breadth\n",
        "\n",
        "# Example usage\n",
        "rectangle1 = Rectangle()\n",
        "rectangle1.set_dimensions(5, 10)\n",
        "\n",
        "rectangle2 = Rectangle()\n",
        "rectangle2.set_dimensions(7, 3)\n",
        "\n",
        "print(f\"Area of rectangle1: {rectangle1.area()}\")  # Output: Area of rectangle1: 50\n",
        "print(f\"Area of rectangle2: {rectangle2.area()}\")  # Output: Area of rectangle2: 21\n"
      ],
      "metadata": {
        "colab": {
          "base_uri": "https://localhost:8080/"
        },
        "id": "PmNxPZtZSNNW",
        "outputId": "6f698cfe-9dea-4647-92a7-05925a4a3581"
      },
      "execution_count": 25,
      "outputs": [
        {
          "output_type": "stream",
          "name": "stdout",
          "text": [
            "Area of rectangle1: 50\n",
            "Area of rectangle2: 21\n"
          ]
        }
      ]
    },
    {
      "cell_type": "markdown",
      "source": [
        "14. Create a class Employee with a method calculate_salary() that computes the salary based on hours worked\n",
        "and hourly rate. Create a derived class Manager that adds a bonus to the salary"
      ],
      "metadata": {
        "id": "HbjLtdS5Sh3d"
      }
    },
    {
      "cell_type": "code",
      "source": [
        "class Employee:\n",
        "    def __init__(self, name, hours_worked, hourly_rate):\n",
        "        self.name = name\n",
        "        self.hours_worked = hours_worked\n",
        "        self.hourly_rate = hourly_rate\n",
        "\n",
        "    def calculate_salary(self):\n",
        "        return self.hours_worked * self.hourly_rate\n",
        "\n",
        "class Manager(Employee):\n",
        "    def __init__(self, name, hours_worked, hourly_rate, bonus):\n",
        "        super().__init__(name, hours_worked, hourly_rate)\n",
        "        self.bonus = bonus\n",
        "\n",
        "    def calculate_salary(self):\n",
        "        # Calls the base class method and adds the bonus\n",
        "        base_salary = super().calculate_salary()\n",
        "        return base_salary + self.bonus\n",
        "\n",
        "# Example usage\n",
        "employee1 = Employee(\"John\", 40, 25)  # 40 hours, $25 per hour\n",
        "manager1 = Manager(\"Sarah\", 40, 30, 500)  # 40 hours, $30 per hour, $500 bonus\n",
        "\n",
        "print(f\"{employee1.name}'s salary: ${employee1.calculate_salary()}\")  # Output: John's salary: $1000\n",
        "print(f\"{manager1.name}'s salary: ${manager1.calculate_salary()}\")  # Output: Sarah's salary: $1700\n"
      ],
      "metadata": {
        "colab": {
          "base_uri": "https://localhost:8080/"
        },
        "id": "ot9mPSt7Se3u",
        "outputId": "5b218577-e83c-4658-c032-dc25f6434b4b"
      },
      "execution_count": 26,
      "outputs": [
        {
          "output_type": "stream",
          "name": "stdout",
          "text": [
            "John's salary: $1000\n",
            "Sarah's salary: $1700\n"
          ]
        }
      ]
    },
    {
      "cell_type": "markdown",
      "source": [
        "15. Create a class Product with attributes name, price, and quantity. Implement a method total_price() that\n",
        "calculates the total price of the product."
      ],
      "metadata": {
        "id": "-KKXdRJoSzgf"
      }
    },
    {
      "cell_type": "code",
      "source": [
        "class Product:\n",
        "    def __init__(self, name, price, quantity):\n",
        "        self.name = name\n",
        "        self.price = price\n",
        "        self.quantity = quantity\n",
        "\n",
        "    def total_price(self):\n",
        "        return self.price * self.quantity\n",
        "\n",
        "# Example usage\n",
        "product1 = Product(\"Laptop\", 1000, 5)  # Name: Laptop, Price: 1000, Quantity: 5\n",
        "product2 = Product(\"Smartphone\", 700, 3)  # Name: Smartphone, Price: 700, Quantity: 3\n",
        "\n",
        "print(f\"Total price for {product1.name}: ${product1.total_price()}\")  # Output: Total price for Laptop: $5000\n",
        "print(f\"Total price for {product2.name}: ${product2.total_price()}\")  # Output: Total price for Smartphone: $2100\n"
      ],
      "metadata": {
        "colab": {
          "base_uri": "https://localhost:8080/"
        },
        "id": "CIsm37KUS25P",
        "outputId": "2172bdff-dbe9-4988-ca83-959365a74460"
      },
      "execution_count": 28,
      "outputs": [
        {
          "output_type": "stream",
          "name": "stdout",
          "text": [
            "Total price for Laptop: $5000\n",
            "Total price for Smartphone: $2100\n"
          ]
        }
      ]
    },
    {
      "cell_type": "markdown",
      "source": [
        " 16. Create a class Animal with an abstract method sound(). Create two derived classes Cow and Sheep that\n",
        "implement the sound() method"
      ],
      "metadata": {
        "id": "Th24yyduS82a"
      }
    },
    {
      "cell_type": "code",
      "source": [
        "from abc import ABC, abstractmethod\n",
        "\n",
        "# Abstract base class Animal\n",
        "class Animal(ABC):\n",
        "    @abstractmethod\n",
        "    def sound(self):\n",
        "        pass  # Derived classes must implement this method\n",
        "\n",
        "# Derived class Cow\n",
        "class Cow(Animal):\n",
        "    def sound(self):\n",
        "        return \"Moo\"\n",
        "\n",
        "# Derived class Sheep\n",
        "class Sheep(Animal):\n",
        "    def sound(self):\n",
        "        return \"Baa\"\n",
        "\n",
        "# Example usage\n",
        "cow = Cow()\n",
        "sheep = Sheep()\n",
        "\n",
        "print(f\"Cow sound: {cow.sound()}\")  # Output: Cow sound: Moo\n",
        "print(f\"Sheep sound: {sheep.sound()}\")  # Output: Sheep sound: Baa\n"
      ],
      "metadata": {
        "colab": {
          "base_uri": "https://localhost:8080/"
        },
        "id": "aDjMfUNmS_Zo",
        "outputId": "478af974-515a-4928-c0df-1b9450f5e220"
      },
      "execution_count": 27,
      "outputs": [
        {
          "output_type": "stream",
          "name": "stdout",
          "text": [
            "Cow sound: Moo\n",
            "Sheep sound: Baa\n"
          ]
        }
      ]
    },
    {
      "cell_type": "markdown",
      "source": [
        " 17. Create a class Book with attributes title, author, and year_published. Add a method get_book_info() that\n",
        "returns a formatted string with the book's details."
      ],
      "metadata": {
        "id": "SCGtNIqrTHKM"
      }
    },
    {
      "cell_type": "code",
      "source": [
        "class Book:\n",
        "    def __init__(self, title, author, year_published):\n",
        "        self.title = title\n",
        "        self.author = author\n",
        "        self.year_published = year_published\n",
        "\n",
        "    def get_book_info(self):\n",
        "        return f\"Title: {self.title}\\nAuthor: {self.author}\\nYear Published: {self.year_published}\"\n",
        "\n",
        "# Example usage\n",
        "book1 = Book(\"To Kill a Mockingbird\", \"Harper Lee\", 1960)\n",
        "book2 = Book(\"1984\", \"George Orwell\", 1949)\n",
        "\n",
        "print(book1.get_book_info())\n",
        "print()\n",
        "print(book2.get_book_info())\n"
      ],
      "metadata": {
        "colab": {
          "base_uri": "https://localhost:8080/"
        },
        "id": "H7WhHtzFTYUy",
        "outputId": "b4626dd6-c5f9-4f04-9436-da4c0ab0b8c9"
      },
      "execution_count": 29,
      "outputs": [
        {
          "output_type": "stream",
          "name": "stdout",
          "text": [
            "Title: To Kill a Mockingbird\n",
            "Author: Harper Lee\n",
            "Year Published: 1960\n",
            "\n",
            "Title: 1984\n",
            "Author: George Orwell\n",
            "Year Published: 1949\n"
          ]
        }
      ]
    },
    {
      "cell_type": "markdown",
      "source": [
        "18. Create a class House with attributes address and price. Create a derived class Mansion that adds an\n",
        "attribute number_of_rooms"
      ],
      "metadata": {
        "id": "KRNzc8vCTbCm"
      }
    },
    {
      "cell_type": "code",
      "source": [
        "# Base class House\n",
        "class House:\n",
        "    def __init__(self, address, price):\n",
        "        self.address = address\n",
        "        self.price = price\n",
        "\n",
        "    def get_info(self):\n",
        "        return f\"Address: {self.address}\\nPrice: {self.price}\"\n",
        "\n",
        "# Derived class Mansion\n",
        "class Mansion(House):\n",
        "    def __init__(self, address, price, number_of_rooms):\n",
        "        # Initialize attributes of the base class\n",
        "        super().__init__(address, price)\n",
        "        self.number_of_rooms = number_of_rooms\n",
        "\n",
        "    def get_info(self):\n",
        "        base_info = super().get_info()  # Get base class info\n",
        "        return f\"{base_info}\\nNumber of Rooms: {self.number_of_rooms}\"\n",
        "\n",
        "# Example usage\n",
        "house = House(\"123 Main St\", 250000)\n",
        "mansion = Mansion(\"456 Luxury Ln\", 5000000, 12)\n",
        "\n",
        "print(\"House Info:\")\n",
        "print(house.get_info())\n",
        "print()\n",
        "\n",
        "print(\"Mansion Info:\")\n",
        "print(mansion.get_info())\n"
      ],
      "metadata": {
        "colab": {
          "base_uri": "https://localhost:8080/"
        },
        "id": "Jth_XL50TeB0",
        "outputId": "bcd98714-632e-412d-c3a5-4ac71ef04ef0"
      },
      "execution_count": 30,
      "outputs": [
        {
          "output_type": "stream",
          "name": "stdout",
          "text": [
            "House Info:\n",
            "Address: 123 Main St\n",
            "Price: 250000\n",
            "\n",
            "Mansion Info:\n",
            "Address: 456 Luxury Ln\n",
            "Price: 5000000\n",
            "Number of Rooms: 12\n"
          ]
        }
      ]
    }
  ]
}